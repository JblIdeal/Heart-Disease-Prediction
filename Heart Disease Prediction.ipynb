{
 "cells": [
  {
   "cell_type": "code",
   "execution_count": 1,
   "id": "55c98954",
   "metadata": {},
   "outputs": [],
   "source": [
    "import pandas as pd\n",
    "import numpy as np\n",
    "import matplotlib.pyplot as plt\n",
    "import seaborn as sns\n",
    "\n",
    "from ipywidgets import Dropdown, interact, FloatSlider, IntSlider, RadioButtons, Text\n",
    "\n",
    "from sklearn.model_selection import train_test_split\n",
    "from sklearn.metrics import accuracy_score, confusion_matrix, ConfusionMatrixDisplay, classification_report\n",
    "from sklearn.linear_model import LinearRegression, Ridge, LogisticRegression, Lasso\n",
    "from sklearn.pipeline import make_pipeline\n",
    "from sklearn.impute import SimpleImputer\n",
    "from sklearn.tree import DecisionTreeClassifier, plot_tree\n",
    "from sklearn.covariance import EmpiricalCovariance\n",
    "from time import localtime, timezone\n",
    "\n",
    "from category_encoders import BinaryEncoder, OneHotEncoder, OrdinalEncoder"
   ]
  },
  {
   "cell_type": "markdown",
   "id": "9b2b7a5e",
   "metadata": {},
   "source": [
    "# Wrangle Function"
   ]
  },
  {
   "cell_type": "code",
   "execution_count": 2,
   "id": "ddec94f2",
   "metadata": {},
   "outputs": [],
   "source": [
    "def wrangle(filename):\n",
    "    df = pd.read_csv(filename)\n",
    "    \n",
    "    # Drop Missing Values\n",
    "    df = df.dropna()\n",
    "    \n",
    "    # Columns to drop\n",
    "    cols_to_drop = []\n",
    "    \n",
    "    # Drop columns with multidimensionality\n",
    "    cols_to_drop.append(\"Unnamed: 0\")\n",
    "    \n",
    "    # Drop Outliers\n",
    "    mask_Chol = df[\"Chol\"] <= 500\n",
    "    mask_Oldpeak = df[\"Oldpeak\"] <= 5\n",
    "    \n",
    "    df = df[mask_Chol & mask_Oldpeak]\n",
    "    \n",
    "    # Drop ALL Above\n",
    "    df = df.drop(columns=cols_to_drop).reset_index(drop=True)\n",
    "    \n",
    "    return df"
   ]
  },
  {
   "cell_type": "code",
   "execution_count": 3,
   "id": "a288a23a",
   "metadata": {},
   "outputs": [
    {
     "name": "stdout",
     "output_type": "stream",
     "text": [
      "   Age  Sex     ChestPain  RestBP  Chol  Fbs  RestECG  MaxHR  ExAng  Oldpeak  \\\n",
      "0   63    1       typical     145   233    1        2    150      0      2.3   \n",
      "1   67    1  asymptomatic     160   286    0        2    108      1      1.5   \n",
      "2   67    1  asymptomatic     120   229    0        2    129      1      2.6   \n",
      "3   37    1    nonanginal     130   250    0        0    187      0      3.5   \n",
      "4   41    0    nontypical     130   204    0        2    172      0      1.4   \n",
      "\n",
      "   Slope   Ca        Thal  AHD  \n",
      "0      3  0.0       fixed   No  \n",
      "1      2  3.0      normal  Yes  \n",
      "2      2  2.0  reversable  Yes  \n",
      "3      3  0.0      normal   No  \n",
      "4      1  0.0      normal   No  \n"
     ]
    },
    {
     "data": {
      "text/html": [
       "<div>\n",
       "<style scoped>\n",
       "    .dataframe tbody tr th:only-of-type {\n",
       "        vertical-align: middle;\n",
       "    }\n",
       "\n",
       "    .dataframe tbody tr th {\n",
       "        vertical-align: top;\n",
       "    }\n",
       "\n",
       "    .dataframe thead th {\n",
       "        text-align: right;\n",
       "    }\n",
       "</style>\n",
       "<table border=\"1\" class=\"dataframe\">\n",
       "  <thead>\n",
       "    <tr style=\"text-align: right;\">\n",
       "      <th></th>\n",
       "      <th>Age</th>\n",
       "      <th>Sex</th>\n",
       "      <th>ChestPain</th>\n",
       "      <th>RestBP</th>\n",
       "      <th>Chol</th>\n",
       "      <th>Fbs</th>\n",
       "      <th>RestECG</th>\n",
       "      <th>MaxHR</th>\n",
       "      <th>ExAng</th>\n",
       "      <th>Oldpeak</th>\n",
       "      <th>Slope</th>\n",
       "      <th>Ca</th>\n",
       "      <th>Thal</th>\n",
       "      <th>AHD</th>\n",
       "    </tr>\n",
       "  </thead>\n",
       "  <tbody>\n",
       "    <tr>\n",
       "      <th>289</th>\n",
       "      <td>57</td>\n",
       "      <td>0</td>\n",
       "      <td>asymptomatic</td>\n",
       "      <td>140</td>\n",
       "      <td>241</td>\n",
       "      <td>0</td>\n",
       "      <td>0</td>\n",
       "      <td>123</td>\n",
       "      <td>1</td>\n",
       "      <td>0.2</td>\n",
       "      <td>2</td>\n",
       "      <td>0.0</td>\n",
       "      <td>reversable</td>\n",
       "      <td>Yes</td>\n",
       "    </tr>\n",
       "    <tr>\n",
       "      <th>290</th>\n",
       "      <td>45</td>\n",
       "      <td>1</td>\n",
       "      <td>typical</td>\n",
       "      <td>110</td>\n",
       "      <td>264</td>\n",
       "      <td>0</td>\n",
       "      <td>0</td>\n",
       "      <td>132</td>\n",
       "      <td>0</td>\n",
       "      <td>1.2</td>\n",
       "      <td>2</td>\n",
       "      <td>0.0</td>\n",
       "      <td>reversable</td>\n",
       "      <td>Yes</td>\n",
       "    </tr>\n",
       "    <tr>\n",
       "      <th>291</th>\n",
       "      <td>68</td>\n",
       "      <td>1</td>\n",
       "      <td>asymptomatic</td>\n",
       "      <td>144</td>\n",
       "      <td>193</td>\n",
       "      <td>1</td>\n",
       "      <td>0</td>\n",
       "      <td>141</td>\n",
       "      <td>0</td>\n",
       "      <td>3.4</td>\n",
       "      <td>2</td>\n",
       "      <td>2.0</td>\n",
       "      <td>reversable</td>\n",
       "      <td>Yes</td>\n",
       "    </tr>\n",
       "    <tr>\n",
       "      <th>292</th>\n",
       "      <td>57</td>\n",
       "      <td>1</td>\n",
       "      <td>asymptomatic</td>\n",
       "      <td>130</td>\n",
       "      <td>131</td>\n",
       "      <td>0</td>\n",
       "      <td>0</td>\n",
       "      <td>115</td>\n",
       "      <td>1</td>\n",
       "      <td>1.2</td>\n",
       "      <td>2</td>\n",
       "      <td>1.0</td>\n",
       "      <td>reversable</td>\n",
       "      <td>Yes</td>\n",
       "    </tr>\n",
       "    <tr>\n",
       "      <th>293</th>\n",
       "      <td>57</td>\n",
       "      <td>0</td>\n",
       "      <td>nontypical</td>\n",
       "      <td>130</td>\n",
       "      <td>236</td>\n",
       "      <td>0</td>\n",
       "      <td>2</td>\n",
       "      <td>174</td>\n",
       "      <td>0</td>\n",
       "      <td>0.0</td>\n",
       "      <td>2</td>\n",
       "      <td>1.0</td>\n",
       "      <td>normal</td>\n",
       "      <td>Yes</td>\n",
       "    </tr>\n",
       "  </tbody>\n",
       "</table>\n",
       "</div>"
      ],
      "text/plain": [
       "     Age  Sex     ChestPain  RestBP  Chol  Fbs  RestECG  MaxHR  ExAng  \\\n",
       "289   57    0  asymptomatic     140   241    0        0    123      1   \n",
       "290   45    1       typical     110   264    0        0    132      0   \n",
       "291   68    1  asymptomatic     144   193    1        0    141      0   \n",
       "292   57    1  asymptomatic     130   131    0        0    115      1   \n",
       "293   57    0    nontypical     130   236    0        2    174      0   \n",
       "\n",
       "     Oldpeak  Slope   Ca        Thal  AHD  \n",
       "289      0.2      2  0.0  reversable  Yes  \n",
       "290      1.2      2  0.0  reversable  Yes  \n",
       "291      3.4      2  2.0  reversable  Yes  \n",
       "292      1.2      2  1.0  reversable  Yes  \n",
       "293      0.0      2  1.0      normal  Yes  "
      ]
     },
     "execution_count": 3,
     "metadata": {},
     "output_type": "execute_result"
    }
   ],
   "source": [
    "# load data and view part of data\n",
    "heart = wrangle(\"heart.csv\")\n",
    "print(heart.head())\n",
    "heart.tail()"
   ]
  },
  {
   "cell_type": "markdown",
   "id": "b43639f0",
   "metadata": {},
   "source": [
    "# Exploratory Data Analysis"
   ]
  },
  {
   "cell_type": "code",
   "execution_count": 4,
   "id": "91fd9504",
   "metadata": {},
   "outputs": [
    {
     "name": "stdout",
     "output_type": "stream",
     "text": [
      "<class 'pandas.core.frame.DataFrame'>\n",
      "RangeIndex: 294 entries, 0 to 293\n",
      "Data columns (total 14 columns):\n",
      " #   Column     Non-Null Count  Dtype  \n",
      "---  ------     --------------  -----  \n",
      " 0   Age        294 non-null    int64  \n",
      " 1   Sex        294 non-null    int64  \n",
      " 2   ChestPain  294 non-null    object \n",
      " 3   RestBP     294 non-null    int64  \n",
      " 4   Chol       294 non-null    int64  \n",
      " 5   Fbs        294 non-null    int64  \n",
      " 6   RestECG    294 non-null    int64  \n",
      " 7   MaxHR      294 non-null    int64  \n",
      " 8   ExAng      294 non-null    int64  \n",
      " 9   Oldpeak    294 non-null    float64\n",
      " 10  Slope      294 non-null    int64  \n",
      " 11  Ca         294 non-null    float64\n",
      " 12  Thal       294 non-null    object \n",
      " 13  AHD        294 non-null    object \n",
      "dtypes: float64(2), int64(9), object(3)\n",
      "memory usage: 32.3+ KB\n"
     ]
    }
   ],
   "source": [
    "heart.info()"
   ]
  },
  {
   "cell_type": "code",
   "execution_count": 5,
   "id": "af57f959-8b01-4f40-9236-5f7929325051",
   "metadata": {},
   "outputs": [
    {
     "data": {
      "text/plain": [
       "No     0.540816\n",
       "Yes    0.459184\n",
       "Name: AHD, dtype: float64"
      ]
     },
     "execution_count": 5,
     "metadata": {},
     "output_type": "execute_result"
    }
   ],
   "source": [
    "heart[\"AHD\"].value_counts(normalize=True)"
   ]
  },
  {
   "cell_type": "code",
   "execution_count": 6,
   "id": "94c1d13f",
   "metadata": {},
   "outputs": [
    {
     "data": {
      "text/html": [
       "<div>\n",
       "<style scoped>\n",
       "    .dataframe tbody tr th:only-of-type {\n",
       "        vertical-align: middle;\n",
       "    }\n",
       "\n",
       "    .dataframe tbody tr th {\n",
       "        vertical-align: top;\n",
       "    }\n",
       "\n",
       "    .dataframe thead th {\n",
       "        text-align: right;\n",
       "    }\n",
       "</style>\n",
       "<table border=\"1\" class=\"dataframe\">\n",
       "  <thead>\n",
       "    <tr style=\"text-align: right;\">\n",
       "      <th></th>\n",
       "      <th>Age</th>\n",
       "      <th>Sex</th>\n",
       "      <th>ChestPain</th>\n",
       "      <th>RestBP</th>\n",
       "      <th>Chol</th>\n",
       "      <th>Fbs</th>\n",
       "      <th>RestECG</th>\n",
       "      <th>MaxHR</th>\n",
       "      <th>ExAng</th>\n",
       "      <th>Oldpeak</th>\n",
       "      <th>Slope</th>\n",
       "      <th>Ca</th>\n",
       "      <th>Thal</th>\n",
       "      <th>AHD</th>\n",
       "    </tr>\n",
       "  </thead>\n",
       "  <tbody>\n",
       "    <tr>\n",
       "      <th>count</th>\n",
       "      <td>294.000000</td>\n",
       "      <td>294.000000</td>\n",
       "      <td>294</td>\n",
       "      <td>294.000000</td>\n",
       "      <td>294.000000</td>\n",
       "      <td>294.000000</td>\n",
       "      <td>294.000000</td>\n",
       "      <td>294.000000</td>\n",
       "      <td>294.000000</td>\n",
       "      <td>294.000000</td>\n",
       "      <td>294.000000</td>\n",
       "      <td>294.000000</td>\n",
       "      <td>294</td>\n",
       "      <td>294</td>\n",
       "    </tr>\n",
       "    <tr>\n",
       "      <th>unique</th>\n",
       "      <td>NaN</td>\n",
       "      <td>NaN</td>\n",
       "      <td>4</td>\n",
       "      <td>NaN</td>\n",
       "      <td>NaN</td>\n",
       "      <td>NaN</td>\n",
       "      <td>NaN</td>\n",
       "      <td>NaN</td>\n",
       "      <td>NaN</td>\n",
       "      <td>NaN</td>\n",
       "      <td>NaN</td>\n",
       "      <td>NaN</td>\n",
       "      <td>3</td>\n",
       "      <td>2</td>\n",
       "    </tr>\n",
       "    <tr>\n",
       "      <th>top</th>\n",
       "      <td>NaN</td>\n",
       "      <td>NaN</td>\n",
       "      <td>asymptomatic</td>\n",
       "      <td>NaN</td>\n",
       "      <td>NaN</td>\n",
       "      <td>NaN</td>\n",
       "      <td>NaN</td>\n",
       "      <td>NaN</td>\n",
       "      <td>NaN</td>\n",
       "      <td>NaN</td>\n",
       "      <td>NaN</td>\n",
       "      <td>NaN</td>\n",
       "      <td>normal</td>\n",
       "      <td>No</td>\n",
       "    </tr>\n",
       "    <tr>\n",
       "      <th>freq</th>\n",
       "      <td>NaN</td>\n",
       "      <td>NaN</td>\n",
       "      <td>140</td>\n",
       "      <td>NaN</td>\n",
       "      <td>NaN</td>\n",
       "      <td>NaN</td>\n",
       "      <td>NaN</td>\n",
       "      <td>NaN</td>\n",
       "      <td>NaN</td>\n",
       "      <td>NaN</td>\n",
       "      <td>NaN</td>\n",
       "      <td>NaN</td>\n",
       "      <td>164</td>\n",
       "      <td>159</td>\n",
       "    </tr>\n",
       "    <tr>\n",
       "      <th>mean</th>\n",
       "      <td>54.472789</td>\n",
       "      <td>0.680272</td>\n",
       "      <td>NaN</td>\n",
       "      <td>131.625850</td>\n",
       "      <td>246.659864</td>\n",
       "      <td>0.146259</td>\n",
       "      <td>0.993197</td>\n",
       "      <td>149.710884</td>\n",
       "      <td>0.326531</td>\n",
       "      <td>1.020748</td>\n",
       "      <td>1.591837</td>\n",
       "      <td>0.673469</td>\n",
       "      <td>NaN</td>\n",
       "      <td>NaN</td>\n",
       "    </tr>\n",
       "    <tr>\n",
       "      <th>std</th>\n",
       "      <td>9.056004</td>\n",
       "      <td>0.467166</td>\n",
       "      <td>NaN</td>\n",
       "      <td>17.743224</td>\n",
       "      <td>48.599287</td>\n",
       "      <td>0.353968</td>\n",
       "      <td>0.994844</td>\n",
       "      <td>22.938293</td>\n",
       "      <td>0.469743</td>\n",
       "      <td>1.100331</td>\n",
       "      <td>0.609986</td>\n",
       "      <td>0.932268</td>\n",
       "      <td>NaN</td>\n",
       "      <td>NaN</td>\n",
       "    </tr>\n",
       "    <tr>\n",
       "      <th>min</th>\n",
       "      <td>29.000000</td>\n",
       "      <td>0.000000</td>\n",
       "      <td>NaN</td>\n",
       "      <td>94.000000</td>\n",
       "      <td>126.000000</td>\n",
       "      <td>0.000000</td>\n",
       "      <td>0.000000</td>\n",
       "      <td>71.000000</td>\n",
       "      <td>0.000000</td>\n",
       "      <td>0.000000</td>\n",
       "      <td>1.000000</td>\n",
       "      <td>0.000000</td>\n",
       "      <td>NaN</td>\n",
       "      <td>NaN</td>\n",
       "    </tr>\n",
       "    <tr>\n",
       "      <th>25%</th>\n",
       "      <td>48.000000</td>\n",
       "      <td>0.000000</td>\n",
       "      <td>NaN</td>\n",
       "      <td>120.000000</td>\n",
       "      <td>211.250000</td>\n",
       "      <td>0.000000</td>\n",
       "      <td>0.000000</td>\n",
       "      <td>133.250000</td>\n",
       "      <td>0.000000</td>\n",
       "      <td>0.000000</td>\n",
       "      <td>1.000000</td>\n",
       "      <td>0.000000</td>\n",
       "      <td>NaN</td>\n",
       "      <td>NaN</td>\n",
       "    </tr>\n",
       "    <tr>\n",
       "      <th>50%</th>\n",
       "      <td>56.000000</td>\n",
       "      <td>1.000000</td>\n",
       "      <td>NaN</td>\n",
       "      <td>130.000000</td>\n",
       "      <td>243.000000</td>\n",
       "      <td>0.000000</td>\n",
       "      <td>1.000000</td>\n",
       "      <td>153.000000</td>\n",
       "      <td>0.000000</td>\n",
       "      <td>0.800000</td>\n",
       "      <td>2.000000</td>\n",
       "      <td>0.000000</td>\n",
       "      <td>NaN</td>\n",
       "      <td>NaN</td>\n",
       "    </tr>\n",
       "    <tr>\n",
       "      <th>75%</th>\n",
       "      <td>61.000000</td>\n",
       "      <td>1.000000</td>\n",
       "      <td>NaN</td>\n",
       "      <td>140.000000</td>\n",
       "      <td>275.750000</td>\n",
       "      <td>0.000000</td>\n",
       "      <td>2.000000</td>\n",
       "      <td>166.000000</td>\n",
       "      <td>1.000000</td>\n",
       "      <td>1.600000</td>\n",
       "      <td>2.000000</td>\n",
       "      <td>1.000000</td>\n",
       "      <td>NaN</td>\n",
       "      <td>NaN</td>\n",
       "    </tr>\n",
       "    <tr>\n",
       "      <th>max</th>\n",
       "      <td>77.000000</td>\n",
       "      <td>1.000000</td>\n",
       "      <td>NaN</td>\n",
       "      <td>200.000000</td>\n",
       "      <td>417.000000</td>\n",
       "      <td>1.000000</td>\n",
       "      <td>2.000000</td>\n",
       "      <td>202.000000</td>\n",
       "      <td>1.000000</td>\n",
       "      <td>4.400000</td>\n",
       "      <td>3.000000</td>\n",
       "      <td>3.000000</td>\n",
       "      <td>NaN</td>\n",
       "      <td>NaN</td>\n",
       "    </tr>\n",
       "  </tbody>\n",
       "</table>\n",
       "</div>"
      ],
      "text/plain": [
       "               Age         Sex     ChestPain      RestBP        Chol  \\\n",
       "count   294.000000  294.000000           294  294.000000  294.000000   \n",
       "unique         NaN         NaN             4         NaN         NaN   \n",
       "top            NaN         NaN  asymptomatic         NaN         NaN   \n",
       "freq           NaN         NaN           140         NaN         NaN   \n",
       "mean     54.472789    0.680272           NaN  131.625850  246.659864   \n",
       "std       9.056004    0.467166           NaN   17.743224   48.599287   \n",
       "min      29.000000    0.000000           NaN   94.000000  126.000000   \n",
       "25%      48.000000    0.000000           NaN  120.000000  211.250000   \n",
       "50%      56.000000    1.000000           NaN  130.000000  243.000000   \n",
       "75%      61.000000    1.000000           NaN  140.000000  275.750000   \n",
       "max      77.000000    1.000000           NaN  200.000000  417.000000   \n",
       "\n",
       "               Fbs     RestECG       MaxHR       ExAng     Oldpeak  \\\n",
       "count   294.000000  294.000000  294.000000  294.000000  294.000000   \n",
       "unique         NaN         NaN         NaN         NaN         NaN   \n",
       "top            NaN         NaN         NaN         NaN         NaN   \n",
       "freq           NaN         NaN         NaN         NaN         NaN   \n",
       "mean      0.146259    0.993197  149.710884    0.326531    1.020748   \n",
       "std       0.353968    0.994844   22.938293    0.469743    1.100331   \n",
       "min       0.000000    0.000000   71.000000    0.000000    0.000000   \n",
       "25%       0.000000    0.000000  133.250000    0.000000    0.000000   \n",
       "50%       0.000000    1.000000  153.000000    0.000000    0.800000   \n",
       "75%       0.000000    2.000000  166.000000    1.000000    1.600000   \n",
       "max       1.000000    2.000000  202.000000    1.000000    4.400000   \n",
       "\n",
       "             Slope          Ca    Thal  AHD  \n",
       "count   294.000000  294.000000     294  294  \n",
       "unique         NaN         NaN       3    2  \n",
       "top            NaN         NaN  normal   No  \n",
       "freq           NaN         NaN     164  159  \n",
       "mean      1.591837    0.673469     NaN  NaN  \n",
       "std       0.609986    0.932268     NaN  NaN  \n",
       "min       1.000000    0.000000     NaN  NaN  \n",
       "25%       1.000000    0.000000     NaN  NaN  \n",
       "50%       2.000000    0.000000     NaN  NaN  \n",
       "75%       2.000000    1.000000     NaN  NaN  \n",
       "max       3.000000    3.000000     NaN  NaN  "
      ]
     },
     "execution_count": 6,
     "metadata": {},
     "output_type": "execute_result"
    }
   ],
   "source": [
    "heart.describe(include=\"all\")"
   ]
  },
  {
   "cell_type": "code",
   "execution_count": 7,
   "id": "fb5dd97d",
   "metadata": {},
   "outputs": [
    {
     "data": {
      "text/plain": [
       "(294, 14)"
      ]
     },
     "execution_count": 7,
     "metadata": {},
     "output_type": "execute_result"
    }
   ],
   "source": [
    "heart.shape"
   ]
  },
  {
   "cell_type": "code",
   "execution_count": 8,
   "id": "eeded5fa",
   "metadata": {},
   "outputs": [
    {
     "data": {
      "text/html": [
       "<div>\n",
       "<style scoped>\n",
       "    .dataframe tbody tr th:only-of-type {\n",
       "        vertical-align: middle;\n",
       "    }\n",
       "\n",
       "    .dataframe tbody tr th {\n",
       "        vertical-align: top;\n",
       "    }\n",
       "\n",
       "    .dataframe thead th {\n",
       "        text-align: right;\n",
       "    }\n",
       "</style>\n",
       "<table border=\"1\" class=\"dataframe\">\n",
       "  <thead>\n",
       "    <tr style=\"text-align: right;\">\n",
       "      <th></th>\n",
       "      <th></th>\n",
       "      <th></th>\n",
       "      <th>Age</th>\n",
       "      <th>Sex</th>\n",
       "      <th>RestBP</th>\n",
       "      <th>Chol</th>\n",
       "      <th>Fbs</th>\n",
       "      <th>RestECG</th>\n",
       "      <th>MaxHR</th>\n",
       "      <th>ExAng</th>\n",
       "      <th>Oldpeak</th>\n",
       "      <th>Slope</th>\n",
       "      <th>Ca</th>\n",
       "    </tr>\n",
       "    <tr>\n",
       "      <th>ChestPain</th>\n",
       "      <th>Thal</th>\n",
       "      <th>AHD</th>\n",
       "      <th></th>\n",
       "      <th></th>\n",
       "      <th></th>\n",
       "      <th></th>\n",
       "      <th></th>\n",
       "      <th></th>\n",
       "      <th></th>\n",
       "      <th></th>\n",
       "      <th></th>\n",
       "      <th></th>\n",
       "      <th></th>\n",
       "    </tr>\n",
       "  </thead>\n",
       "  <tbody>\n",
       "    <tr>\n",
       "      <th rowspan=\"6\" valign=\"top\">asymptomatic</th>\n",
       "      <th rowspan=\"2\" valign=\"top\">fixed</th>\n",
       "      <th>No</th>\n",
       "      <td>60.000000</td>\n",
       "      <td>1.000000</td>\n",
       "      <td>136.666667</td>\n",
       "      <td>207.000000</td>\n",
       "      <td>0.000000</td>\n",
       "      <td>0.666667</td>\n",
       "      <td>137.333333</td>\n",
       "      <td>0.333333</td>\n",
       "      <td>1.400000</td>\n",
       "      <td>1.666667</td>\n",
       "      <td>0.000000</td>\n",
       "    </tr>\n",
       "    <tr>\n",
       "      <th>Yes</th>\n",
       "      <td>55.888889</td>\n",
       "      <td>0.888889</td>\n",
       "      <td>137.888889</td>\n",
       "      <td>235.888889</td>\n",
       "      <td>0.222222</td>\n",
       "      <td>1.444444</td>\n",
       "      <td>128.000000</td>\n",
       "      <td>0.555556</td>\n",
       "      <td>2.011111</td>\n",
       "      <td>2.111111</td>\n",
       "      <td>1.444444</td>\n",
       "    </tr>\n",
       "    <tr>\n",
       "      <th rowspan=\"2\" valign=\"top\">normal</th>\n",
       "      <th>No</th>\n",
       "      <td>52.965517</td>\n",
       "      <td>0.379310</td>\n",
       "      <td>127.241379</td>\n",
       "      <td>255.034483</td>\n",
       "      <td>0.000000</td>\n",
       "      <td>1.034483</td>\n",
       "      <td>156.620690</td>\n",
       "      <td>0.206897</td>\n",
       "      <td>0.596552</td>\n",
       "      <td>1.413793</td>\n",
       "      <td>0.172414</td>\n",
       "    </tr>\n",
       "    <tr>\n",
       "      <th>Yes</th>\n",
       "      <td>59.875000</td>\n",
       "      <td>0.625000</td>\n",
       "      <td>129.500000</td>\n",
       "      <td>262.000000</td>\n",
       "      <td>0.083333</td>\n",
       "      <td>1.375000</td>\n",
       "      <td>134.125000</td>\n",
       "      <td>0.625000</td>\n",
       "      <td>1.216667</td>\n",
       "      <td>1.791667</td>\n",
       "      <td>1.208333</td>\n",
       "    </tr>\n",
       "    <tr>\n",
       "      <th rowspan=\"2\" valign=\"top\">reversable</th>\n",
       "      <th>No</th>\n",
       "      <td>56.142857</td>\n",
       "      <td>1.000000</td>\n",
       "      <td>125.000000</td>\n",
       "      <td>221.571429</td>\n",
       "      <td>0.142857</td>\n",
       "      <td>0.285714</td>\n",
       "      <td>141.857143</td>\n",
       "      <td>0.428571</td>\n",
       "      <td>0.171429</td>\n",
       "      <td>1.285714</td>\n",
       "      <td>0.571429</td>\n",
       "    </tr>\n",
       "    <tr>\n",
       "      <th>Yes</th>\n",
       "      <td>55.338235</td>\n",
       "      <td>0.838235</td>\n",
       "      <td>134.602941</td>\n",
       "      <td>253.867647</td>\n",
       "      <td>0.161765</td>\n",
       "      <td>1.132353</td>\n",
       "      <td>138.014706</td>\n",
       "      <td>0.691176</td>\n",
       "      <td>1.689706</td>\n",
       "      <td>1.808824</td>\n",
       "      <td>1.176471</td>\n",
       "    </tr>\n",
       "    <tr>\n",
       "      <th rowspan=\"5\" valign=\"top\">nonanginal</th>\n",
       "      <th>fixed</th>\n",
       "      <th>Yes</th>\n",
       "      <td>57.500000</td>\n",
       "      <td>1.000000</td>\n",
       "      <td>128.000000</td>\n",
       "      <td>237.000000</td>\n",
       "      <td>1.000000</td>\n",
       "      <td>1.000000</td>\n",
       "      <td>138.000000</td>\n",
       "      <td>0.500000</td>\n",
       "      <td>1.400000</td>\n",
       "      <td>2.000000</td>\n",
       "      <td>1.000000</td>\n",
       "    </tr>\n",
       "    <tr>\n",
       "      <th rowspan=\"2\" valign=\"top\">normal</th>\n",
       "      <th>No</th>\n",
       "      <td>51.722222</td>\n",
       "      <td>0.425926</td>\n",
       "      <td>128.814815</td>\n",
       "      <td>243.666667</td>\n",
       "      <td>0.203704</td>\n",
       "      <td>0.833333</td>\n",
       "      <td>158.870370</td>\n",
       "      <td>0.092593</td>\n",
       "      <td>0.583333</td>\n",
       "      <td>1.425926</td>\n",
       "      <td>0.277778</td>\n",
       "    </tr>\n",
       "    <tr>\n",
       "      <th>Yes</th>\n",
       "      <td>53.200000</td>\n",
       "      <td>1.000000</td>\n",
       "      <td>131.200000</td>\n",
       "      <td>228.600000</td>\n",
       "      <td>0.000000</td>\n",
       "      <td>0.800000</td>\n",
       "      <td>147.600000</td>\n",
       "      <td>0.000000</td>\n",
       "      <td>1.480000</td>\n",
       "      <td>1.400000</td>\n",
       "      <td>0.600000</td>\n",
       "    </tr>\n",
       "    <tr>\n",
       "      <th rowspan=\"2\" valign=\"top\">reversable</th>\n",
       "      <th>No</th>\n",
       "      <td>56.200000</td>\n",
       "      <td>0.900000</td>\n",
       "      <td>129.900000</td>\n",
       "      <td>234.300000</td>\n",
       "      <td>0.300000</td>\n",
       "      <td>0.600000</td>\n",
       "      <td>157.900000</td>\n",
       "      <td>0.200000</td>\n",
       "      <td>0.710000</td>\n",
       "      <td>1.500000</td>\n",
       "      <td>0.600000</td>\n",
       "    </tr>\n",
       "    <tr>\n",
       "      <th>Yes</th>\n",
       "      <td>61.090909</td>\n",
       "      <td>0.909091</td>\n",
       "      <td>138.090909</td>\n",
       "      <td>244.090909</td>\n",
       "      <td>0.090909</td>\n",
       "      <td>1.090909</td>\n",
       "      <td>143.272727</td>\n",
       "      <td>0.272727</td>\n",
       "      <td>1.727273</td>\n",
       "      <td>1.909091</td>\n",
       "      <td>1.181818</td>\n",
       "    </tr>\n",
       "    <tr>\n",
       "      <th rowspan=\"6\" valign=\"top\">nontypical</th>\n",
       "      <th rowspan=\"2\" valign=\"top\">fixed</th>\n",
       "      <th>No</th>\n",
       "      <td>41.000000</td>\n",
       "      <td>1.000000</td>\n",
       "      <td>135.000000</td>\n",
       "      <td>203.000000</td>\n",
       "      <td>0.000000</td>\n",
       "      <td>0.000000</td>\n",
       "      <td>132.000000</td>\n",
       "      <td>0.000000</td>\n",
       "      <td>0.000000</td>\n",
       "      <td>2.000000</td>\n",
       "      <td>0.000000</td>\n",
       "    </tr>\n",
       "    <tr>\n",
       "      <th>Yes</th>\n",
       "      <td>66.000000</td>\n",
       "      <td>1.000000</td>\n",
       "      <td>160.000000</td>\n",
       "      <td>246.000000</td>\n",
       "      <td>0.000000</td>\n",
       "      <td>0.000000</td>\n",
       "      <td>120.000000</td>\n",
       "      <td>1.000000</td>\n",
       "      <td>0.000000</td>\n",
       "      <td>2.000000</td>\n",
       "      <td>3.000000</td>\n",
       "    </tr>\n",
       "    <tr>\n",
       "      <th rowspan=\"2\" valign=\"top\">normal</th>\n",
       "      <th>No</th>\n",
       "      <td>50.057143</td>\n",
       "      <td>0.542857</td>\n",
       "      <td>127.285714</td>\n",
       "      <td>241.571429</td>\n",
       "      <td>0.085714</td>\n",
       "      <td>0.685714</td>\n",
       "      <td>166.285714</td>\n",
       "      <td>0.085714</td>\n",
       "      <td>0.311429</td>\n",
       "      <td>1.228571</td>\n",
       "      <td>0.228571</td>\n",
       "    </tr>\n",
       "    <tr>\n",
       "      <th>Yes</th>\n",
       "      <td>57.500000</td>\n",
       "      <td>0.500000</td>\n",
       "      <td>135.000000</td>\n",
       "      <td>267.750000</td>\n",
       "      <td>0.250000</td>\n",
       "      <td>2.000000</td>\n",
       "      <td>162.500000</td>\n",
       "      <td>0.000000</td>\n",
       "      <td>0.450000</td>\n",
       "      <td>1.500000</td>\n",
       "      <td>1.000000</td>\n",
       "    </tr>\n",
       "    <tr>\n",
       "      <th rowspan=\"2\" valign=\"top\">reversable</th>\n",
       "      <th>No</th>\n",
       "      <td>50.000000</td>\n",
       "      <td>1.000000</td>\n",
       "      <td>114.750000</td>\n",
       "      <td>247.500000</td>\n",
       "      <td>0.250000</td>\n",
       "      <td>0.500000</td>\n",
       "      <td>162.000000</td>\n",
       "      <td>0.000000</td>\n",
       "      <td>0.000000</td>\n",
       "      <td>1.000000</td>\n",
       "      <td>0.000000</td>\n",
       "    </tr>\n",
       "    <tr>\n",
       "      <th>Yes</th>\n",
       "      <td>55.250000</td>\n",
       "      <td>1.000000</td>\n",
       "      <td>136.500000</td>\n",
       "      <td>263.500000</td>\n",
       "      <td>0.000000</td>\n",
       "      <td>1.000000</td>\n",
       "      <td>151.750000</td>\n",
       "      <td>0.000000</td>\n",
       "      <td>0.675000</td>\n",
       "      <td>1.750000</td>\n",
       "      <td>0.500000</td>\n",
       "    </tr>\n",
       "    <tr>\n",
       "      <th rowspan=\"5\" valign=\"top\">typical</th>\n",
       "      <th>fixed</th>\n",
       "      <th>No</th>\n",
       "      <td>57.500000</td>\n",
       "      <td>1.000000</td>\n",
       "      <td>131.500000</td>\n",
       "      <td>209.500000</td>\n",
       "      <td>0.500000</td>\n",
       "      <td>2.000000</td>\n",
       "      <td>170.000000</td>\n",
       "      <td>0.000000</td>\n",
       "      <td>1.150000</td>\n",
       "      <td>2.500000</td>\n",
       "      <td>0.000000</td>\n",
       "    </tr>\n",
       "    <tr>\n",
       "      <th rowspan=\"2\" valign=\"top\">normal</th>\n",
       "      <th>No</th>\n",
       "      <td>57.000000</td>\n",
       "      <td>0.555556</td>\n",
       "      <td>139.000000</td>\n",
       "      <td>230.222222</td>\n",
       "      <td>0.222222</td>\n",
       "      <td>1.333333</td>\n",
       "      <td>150.000000</td>\n",
       "      <td>0.222222</td>\n",
       "      <td>1.155556</td>\n",
       "      <td>1.444444</td>\n",
       "      <td>0.666667</td>\n",
       "    </tr>\n",
       "    <tr>\n",
       "      <th>Yes</th>\n",
       "      <td>61.000000</td>\n",
       "      <td>1.000000</td>\n",
       "      <td>141.500000</td>\n",
       "      <td>248.250000</td>\n",
       "      <td>0.250000</td>\n",
       "      <td>1.000000</td>\n",
       "      <td>151.500000</td>\n",
       "      <td>0.000000</td>\n",
       "      <td>1.200000</td>\n",
       "      <td>1.500000</td>\n",
       "      <td>1.250000</td>\n",
       "    </tr>\n",
       "    <tr>\n",
       "      <th rowspan=\"2\" valign=\"top\">reversable</th>\n",
       "      <th>No</th>\n",
       "      <td>54.200000</td>\n",
       "      <td>1.000000</td>\n",
       "      <td>152.000000</td>\n",
       "      <td>237.400000</td>\n",
       "      <td>0.200000</td>\n",
       "      <td>1.200000</td>\n",
       "      <td>163.600000</td>\n",
       "      <td>0.200000</td>\n",
       "      <td>1.860000</td>\n",
       "      <td>2.000000</td>\n",
       "      <td>0.000000</td>\n",
       "    </tr>\n",
       "    <tr>\n",
       "      <th>Yes</th>\n",
       "      <td>47.333333</td>\n",
       "      <td>1.000000</td>\n",
       "      <td>133.333333</td>\n",
       "      <td>261.000000</td>\n",
       "      <td>0.000000</td>\n",
       "      <td>0.666667</td>\n",
       "      <td>157.666667</td>\n",
       "      <td>0.333333</td>\n",
       "      <td>1.733333</td>\n",
       "      <td>2.000000</td>\n",
       "      <td>0.000000</td>\n",
       "    </tr>\n",
       "  </tbody>\n",
       "</table>\n",
       "</div>"
      ],
      "text/plain": [
       "                                   Age       Sex      RestBP        Chol  \\\n",
       "ChestPain    Thal       AHD                                                \n",
       "asymptomatic fixed      No   60.000000  1.000000  136.666667  207.000000   \n",
       "                        Yes  55.888889  0.888889  137.888889  235.888889   \n",
       "             normal     No   52.965517  0.379310  127.241379  255.034483   \n",
       "                        Yes  59.875000  0.625000  129.500000  262.000000   \n",
       "             reversable No   56.142857  1.000000  125.000000  221.571429   \n",
       "                        Yes  55.338235  0.838235  134.602941  253.867647   \n",
       "nonanginal   fixed      Yes  57.500000  1.000000  128.000000  237.000000   \n",
       "             normal     No   51.722222  0.425926  128.814815  243.666667   \n",
       "                        Yes  53.200000  1.000000  131.200000  228.600000   \n",
       "             reversable No   56.200000  0.900000  129.900000  234.300000   \n",
       "                        Yes  61.090909  0.909091  138.090909  244.090909   \n",
       "nontypical   fixed      No   41.000000  1.000000  135.000000  203.000000   \n",
       "                        Yes  66.000000  1.000000  160.000000  246.000000   \n",
       "             normal     No   50.057143  0.542857  127.285714  241.571429   \n",
       "                        Yes  57.500000  0.500000  135.000000  267.750000   \n",
       "             reversable No   50.000000  1.000000  114.750000  247.500000   \n",
       "                        Yes  55.250000  1.000000  136.500000  263.500000   \n",
       "typical      fixed      No   57.500000  1.000000  131.500000  209.500000   \n",
       "             normal     No   57.000000  0.555556  139.000000  230.222222   \n",
       "                        Yes  61.000000  1.000000  141.500000  248.250000   \n",
       "             reversable No   54.200000  1.000000  152.000000  237.400000   \n",
       "                        Yes  47.333333  1.000000  133.333333  261.000000   \n",
       "\n",
       "                                  Fbs   RestECG       MaxHR     ExAng  \\\n",
       "ChestPain    Thal       AHD                                             \n",
       "asymptomatic fixed      No   0.000000  0.666667  137.333333  0.333333   \n",
       "                        Yes  0.222222  1.444444  128.000000  0.555556   \n",
       "             normal     No   0.000000  1.034483  156.620690  0.206897   \n",
       "                        Yes  0.083333  1.375000  134.125000  0.625000   \n",
       "             reversable No   0.142857  0.285714  141.857143  0.428571   \n",
       "                        Yes  0.161765  1.132353  138.014706  0.691176   \n",
       "nonanginal   fixed      Yes  1.000000  1.000000  138.000000  0.500000   \n",
       "             normal     No   0.203704  0.833333  158.870370  0.092593   \n",
       "                        Yes  0.000000  0.800000  147.600000  0.000000   \n",
       "             reversable No   0.300000  0.600000  157.900000  0.200000   \n",
       "                        Yes  0.090909  1.090909  143.272727  0.272727   \n",
       "nontypical   fixed      No   0.000000  0.000000  132.000000  0.000000   \n",
       "                        Yes  0.000000  0.000000  120.000000  1.000000   \n",
       "             normal     No   0.085714  0.685714  166.285714  0.085714   \n",
       "                        Yes  0.250000  2.000000  162.500000  0.000000   \n",
       "             reversable No   0.250000  0.500000  162.000000  0.000000   \n",
       "                        Yes  0.000000  1.000000  151.750000  0.000000   \n",
       "typical      fixed      No   0.500000  2.000000  170.000000  0.000000   \n",
       "             normal     No   0.222222  1.333333  150.000000  0.222222   \n",
       "                        Yes  0.250000  1.000000  151.500000  0.000000   \n",
       "             reversable No   0.200000  1.200000  163.600000  0.200000   \n",
       "                        Yes  0.000000  0.666667  157.666667  0.333333   \n",
       "\n",
       "                              Oldpeak     Slope        Ca  \n",
       "ChestPain    Thal       AHD                                \n",
       "asymptomatic fixed      No   1.400000  1.666667  0.000000  \n",
       "                        Yes  2.011111  2.111111  1.444444  \n",
       "             normal     No   0.596552  1.413793  0.172414  \n",
       "                        Yes  1.216667  1.791667  1.208333  \n",
       "             reversable No   0.171429  1.285714  0.571429  \n",
       "                        Yes  1.689706  1.808824  1.176471  \n",
       "nonanginal   fixed      Yes  1.400000  2.000000  1.000000  \n",
       "             normal     No   0.583333  1.425926  0.277778  \n",
       "                        Yes  1.480000  1.400000  0.600000  \n",
       "             reversable No   0.710000  1.500000  0.600000  \n",
       "                        Yes  1.727273  1.909091  1.181818  \n",
       "nontypical   fixed      No   0.000000  2.000000  0.000000  \n",
       "                        Yes  0.000000  2.000000  3.000000  \n",
       "             normal     No   0.311429  1.228571  0.228571  \n",
       "                        Yes  0.450000  1.500000  1.000000  \n",
       "             reversable No   0.000000  1.000000  0.000000  \n",
       "                        Yes  0.675000  1.750000  0.500000  \n",
       "typical      fixed      No   1.150000  2.500000  0.000000  \n",
       "             normal     No   1.155556  1.444444  0.666667  \n",
       "                        Yes  1.200000  1.500000  1.250000  \n",
       "             reversable No   1.860000  2.000000  0.000000  \n",
       "                        Yes  1.733333  2.000000  0.000000  "
      ]
     },
     "execution_count": 8,
     "metadata": {},
     "output_type": "execute_result"
    }
   ],
   "source": [
    "heart.groupby([\"ChestPain\", \"Thal\", \"AHD\"]).mean()"
   ]
  },
  {
   "cell_type": "code",
   "execution_count": 9,
   "id": "32b646ba",
   "metadata": {},
   "outputs": [
    {
     "data": {
      "text/html": [
       "<div>\n",
       "<style scoped>\n",
       "    .dataframe tbody tr th:only-of-type {\n",
       "        vertical-align: middle;\n",
       "    }\n",
       "\n",
       "    .dataframe tbody tr th {\n",
       "        vertical-align: top;\n",
       "    }\n",
       "\n",
       "    .dataframe thead th {\n",
       "        text-align: right;\n",
       "    }\n",
       "</style>\n",
       "<table border=\"1\" class=\"dataframe\">\n",
       "  <thead>\n",
       "    <tr style=\"text-align: right;\">\n",
       "      <th></th>\n",
       "      <th></th>\n",
       "      <th></th>\n",
       "      <th>Age</th>\n",
       "      <th>Sex</th>\n",
       "      <th>RestBP</th>\n",
       "      <th>Chol</th>\n",
       "      <th>Fbs</th>\n",
       "      <th>RestECG</th>\n",
       "      <th>MaxHR</th>\n",
       "      <th>ExAng</th>\n",
       "      <th>Oldpeak</th>\n",
       "      <th>Slope</th>\n",
       "      <th>Ca</th>\n",
       "    </tr>\n",
       "    <tr>\n",
       "      <th>ChestPain</th>\n",
       "      <th>Thal</th>\n",
       "      <th>AHD</th>\n",
       "      <th></th>\n",
       "      <th></th>\n",
       "      <th></th>\n",
       "      <th></th>\n",
       "      <th></th>\n",
       "      <th></th>\n",
       "      <th></th>\n",
       "      <th></th>\n",
       "      <th></th>\n",
       "      <th></th>\n",
       "      <th></th>\n",
       "    </tr>\n",
       "  </thead>\n",
       "  <tbody>\n",
       "    <tr>\n",
       "      <th rowspan=\"6\" valign=\"top\">asymptomatic</th>\n",
       "      <th rowspan=\"2\" valign=\"top\">fixed</th>\n",
       "      <th>No</th>\n",
       "      <td>180</td>\n",
       "      <td>3</td>\n",
       "      <td>410</td>\n",
       "      <td>621</td>\n",
       "      <td>0</td>\n",
       "      <td>2</td>\n",
       "      <td>412</td>\n",
       "      <td>1</td>\n",
       "      <td>4.2</td>\n",
       "      <td>5</td>\n",
       "      <td>0.0</td>\n",
       "    </tr>\n",
       "    <tr>\n",
       "      <th>Yes</th>\n",
       "      <td>503</td>\n",
       "      <td>8</td>\n",
       "      <td>1241</td>\n",
       "      <td>2123</td>\n",
       "      <td>2</td>\n",
       "      <td>13</td>\n",
       "      <td>1152</td>\n",
       "      <td>5</td>\n",
       "      <td>18.1</td>\n",
       "      <td>19</td>\n",
       "      <td>13.0</td>\n",
       "    </tr>\n",
       "    <tr>\n",
       "      <th rowspan=\"2\" valign=\"top\">normal</th>\n",
       "      <th>No</th>\n",
       "      <td>1536</td>\n",
       "      <td>11</td>\n",
       "      <td>3690</td>\n",
       "      <td>7396</td>\n",
       "      <td>0</td>\n",
       "      <td>30</td>\n",
       "      <td>4542</td>\n",
       "      <td>6</td>\n",
       "      <td>17.3</td>\n",
       "      <td>41</td>\n",
       "      <td>5.0</td>\n",
       "    </tr>\n",
       "    <tr>\n",
       "      <th>Yes</th>\n",
       "      <td>1437</td>\n",
       "      <td>15</td>\n",
       "      <td>3108</td>\n",
       "      <td>6288</td>\n",
       "      <td>2</td>\n",
       "      <td>33</td>\n",
       "      <td>3219</td>\n",
       "      <td>15</td>\n",
       "      <td>29.2</td>\n",
       "      <td>43</td>\n",
       "      <td>29.0</td>\n",
       "    </tr>\n",
       "    <tr>\n",
       "      <th rowspan=\"2\" valign=\"top\">reversable</th>\n",
       "      <th>No</th>\n",
       "      <td>393</td>\n",
       "      <td>7</td>\n",
       "      <td>875</td>\n",
       "      <td>1551</td>\n",
       "      <td>1</td>\n",
       "      <td>2</td>\n",
       "      <td>993</td>\n",
       "      <td>3</td>\n",
       "      <td>1.2</td>\n",
       "      <td>9</td>\n",
       "      <td>4.0</td>\n",
       "    </tr>\n",
       "    <tr>\n",
       "      <th>Yes</th>\n",
       "      <td>3763</td>\n",
       "      <td>57</td>\n",
       "      <td>9153</td>\n",
       "      <td>17263</td>\n",
       "      <td>11</td>\n",
       "      <td>77</td>\n",
       "      <td>9385</td>\n",
       "      <td>47</td>\n",
       "      <td>114.9</td>\n",
       "      <td>123</td>\n",
       "      <td>80.0</td>\n",
       "    </tr>\n",
       "    <tr>\n",
       "      <th rowspan=\"5\" valign=\"top\">nonanginal</th>\n",
       "      <th>fixed</th>\n",
       "      <th>Yes</th>\n",
       "      <td>115</td>\n",
       "      <td>2</td>\n",
       "      <td>256</td>\n",
       "      <td>474</td>\n",
       "      <td>2</td>\n",
       "      <td>2</td>\n",
       "      <td>276</td>\n",
       "      <td>1</td>\n",
       "      <td>2.8</td>\n",
       "      <td>4</td>\n",
       "      <td>2.0</td>\n",
       "    </tr>\n",
       "    <tr>\n",
       "      <th rowspan=\"2\" valign=\"top\">normal</th>\n",
       "      <th>No</th>\n",
       "      <td>2793</td>\n",
       "      <td>23</td>\n",
       "      <td>6956</td>\n",
       "      <td>13158</td>\n",
       "      <td>11</td>\n",
       "      <td>45</td>\n",
       "      <td>8579</td>\n",
       "      <td>5</td>\n",
       "      <td>31.5</td>\n",
       "      <td>77</td>\n",
       "      <td>15.0</td>\n",
       "    </tr>\n",
       "    <tr>\n",
       "      <th>Yes</th>\n",
       "      <td>266</td>\n",
       "      <td>5</td>\n",
       "      <td>656</td>\n",
       "      <td>1143</td>\n",
       "      <td>0</td>\n",
       "      <td>4</td>\n",
       "      <td>738</td>\n",
       "      <td>0</td>\n",
       "      <td>7.4</td>\n",
       "      <td>7</td>\n",
       "      <td>3.0</td>\n",
       "    </tr>\n",
       "    <tr>\n",
       "      <th rowspan=\"2\" valign=\"top\">reversable</th>\n",
       "      <th>No</th>\n",
       "      <td>562</td>\n",
       "      <td>9</td>\n",
       "      <td>1299</td>\n",
       "      <td>2343</td>\n",
       "      <td>3</td>\n",
       "      <td>6</td>\n",
       "      <td>1579</td>\n",
       "      <td>2</td>\n",
       "      <td>7.1</td>\n",
       "      <td>15</td>\n",
       "      <td>6.0</td>\n",
       "    </tr>\n",
       "    <tr>\n",
       "      <th>Yes</th>\n",
       "      <td>672</td>\n",
       "      <td>10</td>\n",
       "      <td>1519</td>\n",
       "      <td>2685</td>\n",
       "      <td>1</td>\n",
       "      <td>12</td>\n",
       "      <td>1576</td>\n",
       "      <td>3</td>\n",
       "      <td>19.0</td>\n",
       "      <td>21</td>\n",
       "      <td>13.0</td>\n",
       "    </tr>\n",
       "    <tr>\n",
       "      <th rowspan=\"6\" valign=\"top\">nontypical</th>\n",
       "      <th rowspan=\"2\" valign=\"top\">fixed</th>\n",
       "      <th>No</th>\n",
       "      <td>41</td>\n",
       "      <td>1</td>\n",
       "      <td>135</td>\n",
       "      <td>203</td>\n",
       "      <td>0</td>\n",
       "      <td>0</td>\n",
       "      <td>132</td>\n",
       "      <td>0</td>\n",
       "      <td>0.0</td>\n",
       "      <td>2</td>\n",
       "      <td>0.0</td>\n",
       "    </tr>\n",
       "    <tr>\n",
       "      <th>Yes</th>\n",
       "      <td>66</td>\n",
       "      <td>1</td>\n",
       "      <td>160</td>\n",
       "      <td>246</td>\n",
       "      <td>0</td>\n",
       "      <td>0</td>\n",
       "      <td>120</td>\n",
       "      <td>1</td>\n",
       "      <td>0.0</td>\n",
       "      <td>2</td>\n",
       "      <td>3.0</td>\n",
       "    </tr>\n",
       "    <tr>\n",
       "      <th rowspan=\"2\" valign=\"top\">normal</th>\n",
       "      <th>No</th>\n",
       "      <td>1752</td>\n",
       "      <td>19</td>\n",
       "      <td>4455</td>\n",
       "      <td>8455</td>\n",
       "      <td>3</td>\n",
       "      <td>24</td>\n",
       "      <td>5820</td>\n",
       "      <td>3</td>\n",
       "      <td>10.9</td>\n",
       "      <td>43</td>\n",
       "      <td>8.0</td>\n",
       "    </tr>\n",
       "    <tr>\n",
       "      <th>Yes</th>\n",
       "      <td>230</td>\n",
       "      <td>2</td>\n",
       "      <td>540</td>\n",
       "      <td>1071</td>\n",
       "      <td>1</td>\n",
       "      <td>8</td>\n",
       "      <td>650</td>\n",
       "      <td>0</td>\n",
       "      <td>1.8</td>\n",
       "      <td>6</td>\n",
       "      <td>4.0</td>\n",
       "    </tr>\n",
       "    <tr>\n",
       "      <th rowspan=\"2\" valign=\"top\">reversable</th>\n",
       "      <th>No</th>\n",
       "      <td>200</td>\n",
       "      <td>4</td>\n",
       "      <td>459</td>\n",
       "      <td>990</td>\n",
       "      <td>1</td>\n",
       "      <td>2</td>\n",
       "      <td>648</td>\n",
       "      <td>0</td>\n",
       "      <td>0.0</td>\n",
       "      <td>4</td>\n",
       "      <td>0.0</td>\n",
       "    </tr>\n",
       "    <tr>\n",
       "      <th>Yes</th>\n",
       "      <td>221</td>\n",
       "      <td>4</td>\n",
       "      <td>546</td>\n",
       "      <td>1054</td>\n",
       "      <td>0</td>\n",
       "      <td>4</td>\n",
       "      <td>607</td>\n",
       "      <td>0</td>\n",
       "      <td>2.7</td>\n",
       "      <td>7</td>\n",
       "      <td>2.0</td>\n",
       "    </tr>\n",
       "    <tr>\n",
       "      <th rowspan=\"5\" valign=\"top\">typical</th>\n",
       "      <th>fixed</th>\n",
       "      <th>No</th>\n",
       "      <td>115</td>\n",
       "      <td>2</td>\n",
       "      <td>263</td>\n",
       "      <td>419</td>\n",
       "      <td>1</td>\n",
       "      <td>4</td>\n",
       "      <td>340</td>\n",
       "      <td>0</td>\n",
       "      <td>2.3</td>\n",
       "      <td>5</td>\n",
       "      <td>0.0</td>\n",
       "    </tr>\n",
       "    <tr>\n",
       "      <th rowspan=\"2\" valign=\"top\">normal</th>\n",
       "      <th>No</th>\n",
       "      <td>513</td>\n",
       "      <td>5</td>\n",
       "      <td>1251</td>\n",
       "      <td>2072</td>\n",
       "      <td>2</td>\n",
       "      <td>12</td>\n",
       "      <td>1350</td>\n",
       "      <td>2</td>\n",
       "      <td>10.4</td>\n",
       "      <td>13</td>\n",
       "      <td>6.0</td>\n",
       "    </tr>\n",
       "    <tr>\n",
       "      <th>Yes</th>\n",
       "      <td>244</td>\n",
       "      <td>4</td>\n",
       "      <td>566</td>\n",
       "      <td>993</td>\n",
       "      <td>1</td>\n",
       "      <td>4</td>\n",
       "      <td>606</td>\n",
       "      <td>0</td>\n",
       "      <td>4.8</td>\n",
       "      <td>6</td>\n",
       "      <td>5.0</td>\n",
       "    </tr>\n",
       "    <tr>\n",
       "      <th rowspan=\"2\" valign=\"top\">reversable</th>\n",
       "      <th>No</th>\n",
       "      <td>271</td>\n",
       "      <td>5</td>\n",
       "      <td>760</td>\n",
       "      <td>1187</td>\n",
       "      <td>1</td>\n",
       "      <td>6</td>\n",
       "      <td>818</td>\n",
       "      <td>1</td>\n",
       "      <td>9.3</td>\n",
       "      <td>10</td>\n",
       "      <td>0.0</td>\n",
       "    </tr>\n",
       "    <tr>\n",
       "      <th>Yes</th>\n",
       "      <td>142</td>\n",
       "      <td>3</td>\n",
       "      <td>400</td>\n",
       "      <td>783</td>\n",
       "      <td>0</td>\n",
       "      <td>2</td>\n",
       "      <td>473</td>\n",
       "      <td>1</td>\n",
       "      <td>5.2</td>\n",
       "      <td>6</td>\n",
       "      <td>0.0</td>\n",
       "    </tr>\n",
       "  </tbody>\n",
       "</table>\n",
       "</div>"
      ],
      "text/plain": [
       "                              Age  Sex  RestBP   Chol  Fbs  RestECG  MaxHR  \\\n",
       "ChestPain    Thal       AHD                                                  \n",
       "asymptomatic fixed      No    180    3     410    621    0        2    412   \n",
       "                        Yes   503    8    1241   2123    2       13   1152   \n",
       "             normal     No   1536   11    3690   7396    0       30   4542   \n",
       "                        Yes  1437   15    3108   6288    2       33   3219   \n",
       "             reversable No    393    7     875   1551    1        2    993   \n",
       "                        Yes  3763   57    9153  17263   11       77   9385   \n",
       "nonanginal   fixed      Yes   115    2     256    474    2        2    276   \n",
       "             normal     No   2793   23    6956  13158   11       45   8579   \n",
       "                        Yes   266    5     656   1143    0        4    738   \n",
       "             reversable No    562    9    1299   2343    3        6   1579   \n",
       "                        Yes   672   10    1519   2685    1       12   1576   \n",
       "nontypical   fixed      No     41    1     135    203    0        0    132   \n",
       "                        Yes    66    1     160    246    0        0    120   \n",
       "             normal     No   1752   19    4455   8455    3       24   5820   \n",
       "                        Yes   230    2     540   1071    1        8    650   \n",
       "             reversable No    200    4     459    990    1        2    648   \n",
       "                        Yes   221    4     546   1054    0        4    607   \n",
       "typical      fixed      No    115    2     263    419    1        4    340   \n",
       "             normal     No    513    5    1251   2072    2       12   1350   \n",
       "                        Yes   244    4     566    993    1        4    606   \n",
       "             reversable No    271    5     760   1187    1        6    818   \n",
       "                        Yes   142    3     400    783    0        2    473   \n",
       "\n",
       "                             ExAng  Oldpeak  Slope    Ca  \n",
       "ChestPain    Thal       AHD                               \n",
       "asymptomatic fixed      No       1      4.2      5   0.0  \n",
       "                        Yes      5     18.1     19  13.0  \n",
       "             normal     No       6     17.3     41   5.0  \n",
       "                        Yes     15     29.2     43  29.0  \n",
       "             reversable No       3      1.2      9   4.0  \n",
       "                        Yes     47    114.9    123  80.0  \n",
       "nonanginal   fixed      Yes      1      2.8      4   2.0  \n",
       "             normal     No       5     31.5     77  15.0  \n",
       "                        Yes      0      7.4      7   3.0  \n",
       "             reversable No       2      7.1     15   6.0  \n",
       "                        Yes      3     19.0     21  13.0  \n",
       "nontypical   fixed      No       0      0.0      2   0.0  \n",
       "                        Yes      1      0.0      2   3.0  \n",
       "             normal     No       3     10.9     43   8.0  \n",
       "                        Yes      0      1.8      6   4.0  \n",
       "             reversable No       0      0.0      4   0.0  \n",
       "                        Yes      0      2.7      7   2.0  \n",
       "typical      fixed      No       0      2.3      5   0.0  \n",
       "             normal     No       2     10.4     13   6.0  \n",
       "                        Yes      0      4.8      6   5.0  \n",
       "             reversable No       1      9.3     10   0.0  \n",
       "                        Yes      1      5.2      6   0.0  "
      ]
     },
     "execution_count": 9,
     "metadata": {},
     "output_type": "execute_result"
    }
   ],
   "source": [
    "heart.groupby([\"ChestPain\", \"Thal\", \"AHD\"]).sum()"
   ]
  },
  {
   "cell_type": "code",
   "execution_count": 10,
   "id": "2f0fb7ab",
   "metadata": {},
   "outputs": [
    {
     "data": {
      "image/png": "[encoded data removed]",
      "text/plain": [
       "<Figure size 432x288 with 1 Axes>"
      ]
     },
     "metadata": {
      "needs_background": "light"
     },
     "output_type": "display_data"
    }
   ],
   "source": [
    "sns.boxplot(data=heart, x=\"Oldpeak\");"
   ]
  },
  {
   "cell_type": "code",
   "execution_count": 11,
   "id": "210ae803",
   "metadata": {},
   "outputs": [
    {
     "data": {
      "image/png": "[encoded data removed]",
      "text/plain": [
       "<Figure size 432x288 with 1 Axes>"
      ]
     },
     "metadata": {
      "needs_background": "light"
     },
     "output_type": "display_data"
    }
   ],
   "source": [
    "sns.boxplot(data=heart, x=\"RestBP\");"
   ]
  },
  {
   "cell_type": "code",
   "execution_count": 12,
   "id": "10bfa034",
   "metadata": {},
   "outputs": [
    {
     "data": {
      "image/png": "[encoded data removed]",
      "text/plain": [
       "<Figure size 432x288 with 1 Axes>"
      ]
     },
     "metadata": {
      "needs_background": "light"
     },
     "output_type": "display_data"
    }
   ],
   "source": [
    "sns.boxplot(data=heart, x=\"Chol\");"
   ]
  },
  {
   "cell_type": "code",
   "execution_count": 13,
   "id": "8a1fac91",
   "metadata": {},
   "outputs": [
    {
     "data": {
      "image/png": "[encoded data removed]",
      "text/plain": [
       "<Figure size 432x288 with 1 Axes>"
      ]
     },
     "metadata": {
      "needs_background": "light"
     },
     "output_type": "display_data"
    }
   ],
   "source": [
    "sns.boxplot(data=heart, x=\"MaxHR\");"
   ]
  },
  {
   "cell_type": "code",
   "execution_count": 14,
   "id": "3072dcd3",
   "metadata": {},
   "outputs": [
    {
     "data": {
      "image/png": "[encoded data removed]",
      "text/plain": [
       "<Figure size 432x288 with 1 Axes>"
      ]
     },
     "metadata": {
      "needs_background": "light"
     },
     "output_type": "display_data"
    }
   ],
   "source": [
    "sns.boxplot(data=heart, x=\"Slope\");"
   ]
  },
  {
   "cell_type": "code",
   "execution_count": 15,
   "id": "9e3a903b",
   "metadata": {},
   "outputs": [
    {
     "data": {
      "image/png": "[encoded data removed]",
      "text/plain": [
       "<Figure size 432x288 with 1 Axes>"
      ]
     },
     "metadata": {
      "needs_background": "light"
     },
     "output_type": "display_data"
    }
   ],
   "source": [
    "sns.boxplot(data=heart, x=\"Ca\");"
   ]
  },
  {
   "cell_type": "code",
   "execution_count": 16,
   "id": "190015ab",
   "metadata": {},
   "outputs": [
    {
     "data": {
      "image/png": "[encoded data removed]",
      "text/plain": [
       "<Figure size 432x288 with 1 Axes>"
      ]
     },
     "metadata": {
      "needs_background": "light"
     },
     "output_type": "display_data"
    }
   ],
   "source": [
    "plt.hist(heart.Age);"
   ]
  },
  {
   "cell_type": "code",
   "execution_count": 17,
   "id": "c4635c14",
   "metadata": {},
   "outputs": [
    {
     "data": {
      "image/png": "[encoded data removed]",
      "text/plain": [
       "<Figure size 432x288 with 2 Axes>"
      ]
     },
     "metadata": {
      "needs_background": "light"
     },
     "output_type": "display_data"
    }
   ],
   "source": [
    "corr = heart.drop(columns=[\"AHD\"]).corr()\n",
    "sns.heatmap(corr);"
   ]
  },
  {
   "cell_type": "markdown",
   "id": "eea0600d",
   "metadata": {},
   "source": [
    "# Build Baseline and Split Data"
   ]
  },
  {
   "cell_type": "code",
   "execution_count": 18,
   "id": "b811ff1c",
   "metadata": {},
   "outputs": [
    {
     "name": "stdout",
     "output_type": "stream",
     "text": [
      "The Baseline Accuracy Score =  0.5408\n"
     ]
    }
   ],
   "source": [
    "Acc_Baseline = heart[\"AHD\"].value_counts(normalize=True)\n",
    "\n",
    "print(\"The Baseline Accuracy Score = \", round(max(Acc_Baseline), 4))"
   ]
  },
  {
   "cell_type": "code",
   "execution_count": 19,
   "id": "87e5566f",
   "metadata": {},
   "outputs": [
    {
     "name": "stdout",
     "output_type": "stream",
     "text": [
      "(294, 13)\n",
      "(294,)\n"
     ]
    }
   ],
   "source": [
    "target = \"AHD\"\n",
    "y = heart[target]\n",
    "X = heart.drop(columns=target)\n",
    "\n",
    "print(X.shape)\n",
    "print(y.shape)\n"
   ]
  },
  {
   "cell_type": "code",
   "execution_count": 20,
   "id": "fe091294",
   "metadata": {},
   "outputs": [
    {
     "name": "stdout",
     "output_type": "stream",
     "text": [
      "(59, 13)\n",
      "(59,)\n",
      "(59, 13)\n",
      "(59,)\n",
      "(176, 13)\n",
      "(176,)\n"
     ]
    }
   ],
   "source": [
    "X_train, X_test, y_train, y_test = train_test_split(X, y, test_size= 0.2, random_state=42)\n",
    "X_train, X_val, y_train, y_val = train_test_split(X_train, y_train, test_size=0.25, random_state=42)\n",
    "print(X_test.shape)\n",
    "print(y_test.shape)\n",
    "print(X_val.shape)\n",
    "print(y_val.shape)\n",
    "print(X_train.shape)\n",
    "print(y_train.shape)"
   ]
  },
  {
   "cell_type": "markdown",
   "id": "0f5401a1",
   "metadata": {},
   "source": [
    "# Build Logistic Regression Model"
   ]
  },
  {
   "cell_type": "code",
   "execution_count": 21,
   "id": "166cdb27",
   "metadata": {},
   "outputs": [],
   "source": [
    "LogReg = make_pipeline(\n",
    "    OneHotEncoder(),\n",
    "    LogisticRegression(max_iter=3000)\n",
    ")"
   ]
  },
  {
   "cell_type": "code",
   "execution_count": 22,
   "id": "ecde1f56",
   "metadata": {},
   "outputs": [
    {
     "data": {
      "text/plain": [
       "Pipeline(steps=[('onehotencoder', OneHotEncoder(cols=['ChestPain', 'Thal'])),\n",
       "                ('logisticregression', LogisticRegression(max_iter=3000))])"
      ]
     },
     "execution_count": 22,
     "metadata": {},
     "output_type": "execute_result"
    }
   ],
   "source": [
    "LogReg.fit(X_train, y_train)"
   ]
  },
  {
   "cell_type": "code",
   "execution_count": 23,
   "id": "fa408658",
   "metadata": {},
   "outputs": [
    {
     "name": "stdout",
     "output_type": "stream",
     "text": [
      "The Accuracy score for Train =  0.8693  and Validation data =  0.8644\n"
     ]
    }
   ],
   "source": [
    "y_pred_train = LogReg.predict(X_train)\n",
    "y_pred_val = LogReg.predict(X_val)\n",
    "\n",
    "Acc_Train = accuracy_score(y_train, y_pred_train)\n",
    "Acc_val = accuracy_score(y_val, y_pred_val)\n",
    "\n",
    "print(\"The Accuracy score for Train = \", round(Acc_Train, 4), \" and Validation data = \", round(Acc_val, 4))"
   ]
  },
  {
   "cell_type": "code",
   "execution_count": 24,
   "id": "e84d4a96",
   "metadata": {},
   "outputs": [
    {
     "data": {
      "text/html": [
       "<div>\n",
       "<style scoped>\n",
       "    .dataframe tbody tr th:only-of-type {\n",
       "        vertical-align: middle;\n",
       "    }\n",
       "\n",
       "    .dataframe tbody tr th {\n",
       "        vertical-align: top;\n",
       "    }\n",
       "\n",
       "    .dataframe thead th {\n",
       "        text-align: right;\n",
       "    }\n",
       "</style>\n",
       "<table border=\"1\" class=\"dataframe\">\n",
       "  <thead>\n",
       "    <tr style=\"text-align: right;\">\n",
       "      <th></th>\n",
       "      <th>y_train</th>\n",
       "      <th>y_pred_train</th>\n",
       "    </tr>\n",
       "  </thead>\n",
       "  <tbody>\n",
       "    <tr>\n",
       "      <th>0</th>\n",
       "      <td>No</td>\n",
       "      <td>No</td>\n",
       "    </tr>\n",
       "    <tr>\n",
       "      <th>1</th>\n",
       "      <td>No</td>\n",
       "      <td>No</td>\n",
       "    </tr>\n",
       "    <tr>\n",
       "      <th>2</th>\n",
       "      <td>Yes</td>\n",
       "      <td>Yes</td>\n",
       "    </tr>\n",
       "    <tr>\n",
       "      <th>3</th>\n",
       "      <td>No</td>\n",
       "      <td>No</td>\n",
       "    </tr>\n",
       "    <tr>\n",
       "      <th>4</th>\n",
       "      <td>No</td>\n",
       "      <td>No</td>\n",
       "    </tr>\n",
       "  </tbody>\n",
       "</table>\n",
       "</div>"
      ],
      "text/plain": [
       "  y_train y_pred_train\n",
       "0      No           No\n",
       "1      No           No\n",
       "2     Yes          Yes\n",
       "3      No           No\n",
       "4      No           No"
      ]
     },
     "execution_count": 24,
     "metadata": {},
     "output_type": "execute_result"
    }
   ],
   "source": [
    "trained = pd.DataFrame({\"y_train\": y_train, \"y_pred_train\": y_pred_train}).reset_index(drop=True)\n",
    "trained.head()"
   ]
  },
  {
   "cell_type": "code",
   "execution_count": 25,
   "id": "1d143d44",
   "metadata": {},
   "outputs": [
    {
     "data": {
      "text/html": [
       "<div>\n",
       "<style scoped>\n",
       "    .dataframe tbody tr th:only-of-type {\n",
       "        vertical-align: middle;\n",
       "    }\n",
       "\n",
       "    .dataframe tbody tr th {\n",
       "        vertical-align: top;\n",
       "    }\n",
       "\n",
       "    .dataframe thead th {\n",
       "        text-align: right;\n",
       "    }\n",
       "</style>\n",
       "<table border=\"1\" class=\"dataframe\">\n",
       "  <thead>\n",
       "    <tr style=\"text-align: right;\">\n",
       "      <th></th>\n",
       "      <th>y_val</th>\n",
       "      <th>y_pred_val</th>\n",
       "    </tr>\n",
       "  </thead>\n",
       "  <tbody>\n",
       "    <tr>\n",
       "      <th>0</th>\n",
       "      <td>Yes</td>\n",
       "      <td>No</td>\n",
       "    </tr>\n",
       "    <tr>\n",
       "      <th>1</th>\n",
       "      <td>No</td>\n",
       "      <td>No</td>\n",
       "    </tr>\n",
       "    <tr>\n",
       "      <th>2</th>\n",
       "      <td>Yes</td>\n",
       "      <td>Yes</td>\n",
       "    </tr>\n",
       "    <tr>\n",
       "      <th>3</th>\n",
       "      <td>Yes</td>\n",
       "      <td>Yes</td>\n",
       "    </tr>\n",
       "    <tr>\n",
       "      <th>4</th>\n",
       "      <td>No</td>\n",
       "      <td>No</td>\n",
       "    </tr>\n",
       "  </tbody>\n",
       "</table>\n",
       "</div>"
      ],
      "text/plain": [
       "  y_val y_pred_val\n",
       "0   Yes         No\n",
       "1    No         No\n",
       "2   Yes        Yes\n",
       "3   Yes        Yes\n",
       "4    No         No"
      ]
     },
     "execution_count": 25,
     "metadata": {},
     "output_type": "execute_result"
    }
   ],
   "source": [
    "validated = pd.DataFrame({\"y_val\": y_val, \"y_pred_val\": y_pred_val}).reset_index(drop=True)\n",
    "validated.head()"
   ]
  },
  {
   "cell_type": "code",
   "execution_count": 26,
   "id": "729b2b74",
   "metadata": {},
   "outputs": [
    {
     "name": "stdout",
     "output_type": "stream",
     "text": [
      "The Accuracy score for Test data =  0.8305\n"
     ]
    }
   ],
   "source": [
    "y_pred_test = LogReg.predict(X_test)\n",
    "Acc_Test = accuracy_score(y_test, y_pred_test)\n",
    "\n",
    "print(\"The Accuracy score for Test data = \", round(Acc_Test, 4))"
   ]
  },
  {
   "cell_type": "code",
   "execution_count": 27,
   "id": "93995eb3",
   "metadata": {},
   "outputs": [
    {
     "data": {
      "text/html": [
       "<div>\n",
       "<style scoped>\n",
       "    .dataframe tbody tr th:only-of-type {\n",
       "        vertical-align: middle;\n",
       "    }\n",
       "\n",
       "    .dataframe tbody tr th {\n",
       "        vertical-align: top;\n",
       "    }\n",
       "\n",
       "    .dataframe thead th {\n",
       "        text-align: right;\n",
       "    }\n",
       "</style>\n",
       "<table border=\"1\" class=\"dataframe\">\n",
       "  <thead>\n",
       "    <tr style=\"text-align: right;\">\n",
       "      <th></th>\n",
       "      <th>y_test</th>\n",
       "      <th>y_pred_test</th>\n",
       "    </tr>\n",
       "  </thead>\n",
       "  <tbody>\n",
       "    <tr>\n",
       "      <th>0</th>\n",
       "      <td>No</td>\n",
       "      <td>No</td>\n",
       "    </tr>\n",
       "    <tr>\n",
       "      <th>1</th>\n",
       "      <td>Yes</td>\n",
       "      <td>Yes</td>\n",
       "    </tr>\n",
       "    <tr>\n",
       "      <th>2</th>\n",
       "      <td>No</td>\n",
       "      <td>No</td>\n",
       "    </tr>\n",
       "    <tr>\n",
       "      <th>3</th>\n",
       "      <td>Yes</td>\n",
       "      <td>No</td>\n",
       "    </tr>\n",
       "    <tr>\n",
       "      <th>4</th>\n",
       "      <td>Yes</td>\n",
       "      <td>No</td>\n",
       "    </tr>\n",
       "  </tbody>\n",
       "</table>\n",
       "</div>"
      ],
      "text/plain": [
       "  y_test y_pred_test\n",
       "0     No          No\n",
       "1    Yes         Yes\n",
       "2     No          No\n",
       "3    Yes          No\n",
       "4    Yes          No"
      ]
     },
     "execution_count": 27,
     "metadata": {},
     "output_type": "execute_result"
    }
   ],
   "source": [
    "test = pd.DataFrame({\"y_test\": y_test, \"y_pred_test\": y_pred_test}).reset_index(drop=True)\n",
    "test.to_csv(\"heart prediction logistic regression.csv\")\n",
    "test.head()"
   ]
  },
  {
   "cell_type": "code",
   "execution_count": 28,
   "id": "34ce288a",
   "metadata": {},
   "outputs": [
    {
     "data": {
      "text/plain": [
       "y_test  y_pred_test\n",
       "No      No             27\n",
       "Yes     Yes            22\n",
       "        No              7\n",
       "No      Yes             3\n",
       "dtype: int64"
      ]
     },
     "execution_count": 28,
     "metadata": {},
     "output_type": "execute_result"
    }
   ],
   "source": [
    "test.value_counts()"
   ]
  },
  {
   "cell_type": "code",
   "execution_count": 29,
   "id": "2a84b84e",
   "metadata": {},
   "outputs": [
    {
     "data": {
      "text/plain": [
       "y_val  y_pred_val\n",
       "Yes    Yes           26\n",
       "No     No            25\n",
       "Yes    No             6\n",
       "No     Yes            2\n",
       "dtype: int64"
      ]
     },
     "execution_count": 29,
     "metadata": {},
     "output_type": "execute_result"
    }
   ],
   "source": [
    "validated.value_counts()"
   ]
  },
  {
   "cell_type": "code",
   "execution_count": 30,
   "id": "b078d34f",
   "metadata": {},
   "outputs": [
    {
     "data": {
      "image/png": "[encoded data removed]",
      "text/plain": [
       "<Figure size 432x288 with 2 Axes>"
      ]
     },
     "metadata": {
      "needs_background": "light"
     },
     "output_type": "display_data"
    }
   ],
   "source": [
    "ConfusionMatrixDisplay.from_estimator(LogReg, X_test, y_test);"
   ]
  },
  {
   "cell_type": "code",
   "execution_count": 31,
   "id": "7f3c60b8",
   "metadata": {},
   "outputs": [
    {
     "data": {
      "image/png": "[encoded data removed]",
      "text/plain": [
       "<Figure size 432x288 with 2 Axes>"
      ]
     },
     "metadata": {
      "needs_background": "light"
     },
     "output_type": "display_data"
    }
   ],
   "source": [
    "ConfusionMatrixDisplay.from_estimator(LogReg, X_val, y_val);"
   ]
  },
  {
   "cell_type": "code",
   "execution_count": 32,
   "id": "37143f3f",
   "metadata": {},
   "outputs": [
    {
     "name": "stdout",
     "output_type": "stream",
     "text": [
      "Classification Report:  \n",
      "               precision    recall  f1-score   support\n",
      "\n",
      "          No       0.79      0.90      0.84        30\n",
      "         Yes       0.88      0.76      0.81        29\n",
      "\n",
      "    accuracy                           0.83        59\n",
      "   macro avg       0.84      0.83      0.83        59\n",
      "weighted avg       0.84      0.83      0.83        59\n",
      "\n"
     ]
    }
   ],
   "source": [
    "class_report = classification_report(y_test, y_pred_test, labels=[\"No\",\"Yes\"])\n",
    "print(\"Classification Report: \", \"\\n\", class_report)"
   ]
  },
  {
   "cell_type": "markdown",
   "id": "d8788cdd",
   "metadata": {},
   "source": [
    "# Building a Decision Tree"
   ]
  },
  {
   "cell_type": "code",
   "execution_count": 33,
   "id": "3e6e3607",
   "metadata": {},
   "outputs": [],
   "source": [
    "depth_range = range(1, 10)\n",
    "Acc_Train_tree = []\n",
    "Acc_val_tree = []\n",
    "\n",
    "for depth in depth_range:\n",
    "    \n",
    "    DecTree = make_pipeline(\n",
    "        OneHotEncoder(),\n",
    "        DecisionTreeClassifier(random_state=42, max_depth=depth)\n",
    "    )\n",
    "    DecTree.fit(X_train, y_train)\n",
    "    y_pred_train_tree = DecTree.predict(X_train)\n",
    "    y_pred_val_tree = DecTree.predict(X_val)\n",
    "\n",
    "    Acc_Train_tree.append(accuracy_score(y_train, y_pred_train_tree))\n",
    "    Acc_val_tree.append(accuracy_score(y_val, y_pred_val_tree))\n",
    "\n",
    "#print(\"The Accuracy score of depth = \", depth, \"for Train = \", round(Acc_Train_tree, 4), \" and Validation data = \", round(Acc_val_tree, 4))"
   ]
  },
  {
   "cell_type": "code",
   "execution_count": 34,
   "id": "d0a0fc54",
   "metadata": {},
   "outputs": [
    {
     "data": {
      "image/png": "[encoded data removed]",
      "text/plain": [
       "<Figure size 432x288 with 1 Axes>"
      ]
     },
     "metadata": {
      "needs_background": "light"
     },
     "output_type": "display_data"
    }
   ],
   "source": [
    "plt.plot(depth_range, Acc_Train_tree, label=\"Train\")\n",
    "plt.plot(depth_range, Acc_val_tree, label =\"Validation\")\n",
    "plt.xlabel(\"Depth of Tree\")\n",
    "plt.ylabel(\"Accuracy Score\")\n",
    "plt.ylim(-0.1, 1.1)\n",
    "plt.grid()\n",
    "plt.legend();"
   ]
  },
  {
   "cell_type": "code",
   "execution_count": 35,
   "id": "b9b67e72",
   "metadata": {},
   "outputs": [
    {
     "data": {
      "text/plain": [
       "Pipeline(steps=[('onehotencoder', OneHotEncoder(cols=['ChestPain', 'Thal'])),\n",
       "                ('decisiontreeclassifier',\n",
       "                 DecisionTreeClassifier(max_depth=4, random_state=42))])"
      ]
     },
     "execution_count": 35,
     "metadata": {},
     "output_type": "execute_result"
    }
   ],
   "source": [
    "DecTree_model = make_pipeline(\n",
    "    OneHotEncoder(),\n",
    "    DecisionTreeClassifier(random_state=42, max_depth=4)\n",
    ")\n",
    "DecTree_model.fit(X_train, y_train)"
   ]
  },
  {
   "cell_type": "code",
   "execution_count": 36,
   "id": "e3329237",
   "metadata": {},
   "outputs": [],
   "source": [
    "train_acc = accuracy_score(y_train, DecTree_model.predict(X_train))\n",
    "val_acc = accuracy_score(y_val, DecTree_model.predict(X_val))\n",
    "test_acc = accuracy_score(y_test, DecTree_model.predict(X_test))"
   ]
  },
  {
   "cell_type": "code",
   "execution_count": 37,
   "id": "c5aeb8c0",
   "metadata": {},
   "outputs": [
    {
     "name": "stdout",
     "output_type": "stream",
     "text": [
      "The Accuracy score for Train data =  0.9205\n",
      "The Accuracy score for Validation data =  0.8305\n",
      "The Accuracy score for Test data =  0.7119\n"
     ]
    }
   ],
   "source": [
    "print(\"The Accuracy score for Train data = \", round(train_acc, 4))\n",
    "print(\"The Accuracy score for Validation data = \", round(val_acc, 4))\n",
    "print(\"The Accuracy score for Test data = \", round(test_acc, 4))"
   ]
  },
  {
   "cell_type": "code",
   "execution_count": 38,
   "id": "7fa75762",
   "metadata": {},
   "outputs": [
    {
     "data": {
      "image/png": "[encoded data removed]",
      "text/plain": [
       "<Figure size 432x288 with 2 Axes>"
      ]
     },
     "metadata": {
      "needs_background": "light"
     },
     "output_type": "display_data"
    }
   ],
   "source": [
    "ConfusionMatrixDisplay.from_estimator(DecTree_model, X_test, y_test);"
   ]
  },
  {
   "cell_type": "code",
   "execution_count": 39,
   "id": "743528b3",
   "metadata": {},
   "outputs": [
    {
     "data": {
      "image/png": "[encoded data removed]",
      "text/plain": [
       "<Figure size 432x288 with 2 Axes>"
      ]
     },
     "metadata": {
      "needs_background": "light"
     },
     "output_type": "display_data"
    }
   ],
   "source": [
    "ConfusionMatrixDisplay.from_estimator(DecTree_model, X_val, y_val);"
   ]
  },
  {
   "cell_type": "code",
   "execution_count": 40,
   "id": "ec380c1e",
   "metadata": {},
   "outputs": [
    {
     "name": "stdout",
     "output_type": "stream",
     "text": [
      "Classification Report for DT:  \n",
      "               precision    recall  f1-score   support\n",
      "\n",
      "          No       0.70      0.77      0.73        30\n",
      "         Yes       0.73      0.66      0.69        29\n",
      "\n",
      "    accuracy                           0.71        59\n",
      "   macro avg       0.71      0.71      0.71        59\n",
      "weighted avg       0.71      0.71      0.71        59\n",
      "\n"
     ]
    }
   ],
   "source": [
    "class_report_tree = classification_report(y_test, DecTree_model.predict(X_test), labels=[\"No\",\"Yes\"])\n",
    "print(\"Classification Report for DT: \", \"\\n\", class_report_tree)"
   ]
  },
  {
   "cell_type": "code",
   "execution_count": 41,
   "id": "22c29027",
   "metadata": {},
   "outputs": [
    {
     "data": {
      "image/png": "[encoded data removed]",
      "text/plain": [
       "<Figure size 1152x576 with 1 Axes>"
      ]
     },
     "metadata": {
      "needs_background": "light"
     },
     "output_type": "display_data"
    }
   ],
   "source": [
    "fig, ax = plt.subplots(figsize=(16, 8))\n",
    "plot_tree(\n",
    "    DecTree_model.named_steps[\"decisiontreeclassifier\"],\n",
    "    filled=True,\n",
    "    node_ids=True,\n",
    ")\n",
    "plt.savefig(\"tree.png\");"
   ]
  },
  {
   "cell_type": "markdown",
   "id": "fa4476c1",
   "metadata": {},
   "source": [
    "# Building an Interactive Dashboard for the Logistic Regression Model"
   ]
  },
  {
   "cell_type": "code",
   "execution_count": 42,
   "id": "0f348481-4af6-478b-a3aa-8488159651ab",
   "metadata": {},
   "outputs": [],
   "source": [
    "#Create function for the final logistic regression model\n",
    "def make_LogReg_prediction(Age, Sex, ChestPain, RestBP, Chol, Fbs, RestECG, MaxHR, ExAng, Oldpeak, Slope, Ca, Thal):\n",
    "    print(\"Interactive Dashboard for final Logistics Regression Model\")\n",
    "    data={\n",
    "        'Age':Age,\n",
    "        'Sex':Sex,\n",
    "        'ChestPain':ChestPain,\n",
    "        'RestBP':RestBP,\n",
    "        'Chol':Chol,\n",
    "        'Fbs':Fbs,\n",
    "        'RestECG':RestECG,\n",
    "        'MaxHR':MaxHR,\n",
    "        'ExAng':ExAng,\n",
    "        'Oldpeak':Oldpeak,\n",
    "        'Slope':Slope,\n",
    "        'Ca':Ca,\n",
    "        'Thal':Thal        \n",
    "    }\n",
    "    \n",
    "    df= pd.DataFrame(data, index=[0])\n",
    "    prediction= LogReg.predict(df)[0]\n",
    "    \n",
    "    return print('The patient has heart disease? ', prediction)"
   ]
  },
  {
   "cell_type": "code",
   "execution_count": 43,
   "id": "983443da",
   "metadata": {},
   "outputs": [
    {
     "data": {
      "application/vnd.jupyter.widget-view+json": {
       "model_id": "da31c593b6b0467eaab259d35b6d710b",
       "version_major": 2,
       "version_minor": 0
      },
      "text/plain": [
       "interactive(children=(IntSlider(value=54, description='Age', max=77, min=34), RadioButtons(description='Sex', …"
      ]
     },
     "metadata": {},
     "output_type": "display_data"
    }
   ],
   "source": [
    "interact(\n",
    "    make_LogReg_prediction,\n",
    "    Age = IntSlider(\n",
    "            value= X_train[\"Age\"].mean(),\n",
    "            min = X_train[\"Age\"].min(),\n",
    "            max = X_train[\"Age\"].max()\n",
    "    ),\n",
    "    Sex = RadioButtons(\n",
    "            options = heart[\"Sex\"].unique(),\n",
    "    ),\n",
    "    ChestPain = Dropdown(\n",
    "            options = sorted(X_train[\"ChestPain\"].unique())\n",
    "    ),\n",
    "    RestBP = IntSlider(\n",
    "            value= X_train[\"RestBP\"].mean(),\n",
    "            min = X_train[\"RestBP\"].min(),\n",
    "            max = X_train[\"RestBP\"].max()\n",
    "    ),\n",
    "    Chol = IntSlider(\n",
    "            value= X_train[\"Chol\"].mean(),\n",
    "            min = X_train[\"Chol\"].min(),\n",
    "            max = X_train[\"Chol\"].max()\n",
    "    ),\n",
    "    Fbs = IntSlider(\n",
    "            value= X_train[\"Fbs\"].mean(),\n",
    "            min = X_train[\"Fbs\"].min(),\n",
    "            max = X_train[\"Fbs\"].max()\n",
    "    ),\n",
    "    RestECG = IntSlider(\n",
    "            value= X_train[\"RestECG\"].mean(),\n",
    "            min = X_train[\"RestECG\"].min(),\n",
    "            max = X_train[\"RestECG\"].max()\n",
    "    ),\n",
    "    MaxHR = IntSlider(\n",
    "            value= X_train[\"MaxHR\"].mean(),\n",
    "            min = X_train[\"MaxHR\"].min(),\n",
    "            max = X_train[\"MaxHR\"].max()\n",
    "    ),\n",
    "    ExAng = IntSlider(\n",
    "            value= X_train[\"ExAng\"].mean(),\n",
    "            min = X_train[\"ExAng\"].min(),\n",
    "            max = X_train[\"ExAng\"].max()\n",
    "    ),\n",
    "    Oldpeak = FloatSlider(\n",
    "            value= X_train[\"Oldpeak\"].mean(),\n",
    "            min = X_train[\"Oldpeak\"].min(),\n",
    "            max = X_train[\"Oldpeak\"].max()\n",
    "    ),\n",
    "    Slope = IntSlider(\n",
    "            value= X_train[\"Slope\"].mean(),\n",
    "            min = X_train[\"Slope\"].min(),\n",
    "            max = X_train[\"Slope\"].max()\n",
    "    ),\n",
    "    Ca = FloatSlider(\n",
    "            value= X_train[\"Ca\"].mean(),\n",
    "            min = X_train[\"Ca\"].min(),\n",
    "            max = X_train[\"Ca\"].max()\n",
    "    ),\n",
    "    Thal = Dropdown(\n",
    "            options = sorted(X_train[\"Thal\"].unique())\n",
    "    )\n",
    ");"
   ]
  },
  {
   "cell_type": "code",
   "execution_count": null,
   "id": "b6be89ef-d67f-4b44-870f-873354ac6505",
   "metadata": {},
   "outputs": [],
   "source": []
  }
 ],
 "metadata": {
  "kernelspec": {
   "display_name": "Python 3 (ipykernel)",
   "language": "python",
   "name": "python3"
  },
  "language_info": {
   "codemirror_mode": {
    "name": "ipython",
    "version": 3
   },
   "file_extension": ".py",
   "mimetype": "text/x-python",
   "name": "python",
   "nbconvert_exporter": "python",
   "pygments_lexer": "ipython3",
   "version": "3.8.10"
  }
 },
 "nbformat": 4,
 "nbformat_minor": 5
}
